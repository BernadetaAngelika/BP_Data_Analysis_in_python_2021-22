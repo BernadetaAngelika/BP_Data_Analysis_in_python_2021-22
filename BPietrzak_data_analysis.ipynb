{
 "cells": [
  {
   "cell_type": "code",
   "execution_count": 1,
   "id": "5f5ddea6",
   "metadata": {},
   "outputs": [],
   "source": [
    "#pip install statmodels.apli as sm\n",
    "#pip install pingouin --user --no-warn-script-location\n",
    "#pip install statannotations"
   ]
  },
  {
   "cell_type": "code",
   "execution_count": 17,
   "id": "ffac4f24",
   "metadata": {},
   "outputs": [],
   "source": [
    "import tkinter as tk\n",
    "from tkinter import filedialog\n",
    "from tkinter.filedialog import asksaveasfile \n",
    "import pandas as pd\n",
    "import seaborn  as sns \n",
    "import numpy as np\n",
    "import pingouin as pg\n",
    "from pingouin import pairwise_ttests\n",
    "from statannotations.Annotator import Annotator\n",
    "%matplotlib inline\n",
    "import statsmodels.stats.multicomp as mc\n",
    "import scipy.stats as stats\n",
    "import statsmodels.api as sm \n",
    "from statsmodels.formula.api import ols\n",
    "import statsmodels\n",
    "from statsmodels.stats.multicomp import pairwise_tukeyhsd\n",
    "import matplotlib.pyplot as plt"
   ]
  },
  {
   "cell_type": "code",
   "execution_count": 4,
   "id": "cbdccfd6",
   "metadata": {},
   "outputs": [
    {
     "name": "stdout",
     "output_type": "stream",
     "text": [
      "<class 'pandas.core.frame.DataFrame'>\n"
     ]
    }
   ],
   "source": [
    "import_file_path = filedialog.askopenfilename()\n",
    "mydata = pd.read_excel(import_file_path, sheet_name=\"Fig.4\", skiprows= None, nrows=20, usecols= [6,7])\n",
    "print(type(mydata))"
   ]
  },
  {
   "cell_type": "code",
   "execution_count": 11,
   "id": "e7143199",
   "metadata": {},
   "outputs": [],
   "source": [
    "#ONE WAY ANOWA AND TUKEY HSD PERFORMANCE:"
   ]
  },
  {
   "cell_type": "code",
   "execution_count": 6,
   "id": "2dad3b52",
   "metadata": {},
   "outputs": [
    {
     "data": {
      "text/html": [
       "<div>\n",
       "<style scoped>\n",
       "    .dataframe tbody tr th:only-of-type {\n",
       "        vertical-align: middle;\n",
       "    }\n",
       "\n",
       "    .dataframe tbody tr th {\n",
       "        vertical-align: top;\n",
       "    }\n",
       "\n",
       "    .dataframe thead th {\n",
       "        text-align: right;\n",
       "    }\n",
       "</style>\n",
       "<table border=\"1\" class=\"dataframe\">\n",
       "  <thead>\n",
       "    <tr style=\"text-align: right;\">\n",
       "      <th></th>\n",
       "      <th>sum_sq</th>\n",
       "      <th>df</th>\n",
       "      <th>F</th>\n",
       "      <th>PR(&gt;F)</th>\n",
       "    </tr>\n",
       "  </thead>\n",
       "  <tbody>\n",
       "    <tr>\n",
       "      <th>group</th>\n",
       "      <td>32.104046</td>\n",
       "      <td>3.0</td>\n",
       "      <td>4.524595</td>\n",
       "      <td>0.017633</td>\n",
       "    </tr>\n",
       "    <tr>\n",
       "      <th>Residual</th>\n",
       "      <td>37.842408</td>\n",
       "      <td>16.0</td>\n",
       "      <td>NaN</td>\n",
       "      <td>NaN</td>\n",
       "    </tr>\n",
       "  </tbody>\n",
       "</table>\n",
       "</div>"
      ],
      "text/plain": [
       "             sum_sq    df         F    PR(>F)\n",
       "group     32.104046   3.0  4.524595  0.017633\n",
       "Residual  37.842408  16.0       NaN       NaN"
      ]
     },
     "execution_count": 6,
     "metadata": {},
     "output_type": "execute_result"
    }
   ],
   "source": [
    "model = ols('EB_content~group', data = mydata).fit()\n",
    "aovRes = sm.stats.anova_lm(model, typ=2)\n",
    "aovRes"
   ]
  },
  {
   "cell_type": "code",
   "execution_count": 9,
   "id": "ed94b713",
   "metadata": {},
   "outputs": [
    {
     "name": "stdout",
     "output_type": "stream",
     "text": [
      "Multiple Comparison of Means - Tukey HSD, FWER=0.05 \n",
      "====================================================\n",
      "group1  group2 meandiff p-adj   lower  upper  reject\n",
      "----------------------------------------------------\n",
      "  Sham   VP150   0.8376 0.8064 -1.9454 3.6206  False\n",
      "  Sham   VP300   0.6249    0.9 -2.1581 3.4079  False\n",
      "  Sham Vehicle   3.3257 0.0167  0.5427 6.1087   True\n",
      " VP150   VP300  -0.2127    0.9 -2.9957 2.5703  False\n",
      " VP150 Vehicle   2.4881 0.0882 -0.2949 5.2711  False\n",
      " VP300 Vehicle   2.7009 0.0588 -0.0822 5.4839  False\n",
      "----------------------------------------------------\n"
     ]
    }
   ],
   "source": [
    "print(pairwise_tukeyhsd (mydata[\"EB_content\"], mydata[\"group\"]))"
   ]
  },
  {
   "cell_type": "code",
   "execution_count": 14,
   "id": "8566bba7",
   "metadata": {},
   "outputs": [
    {
     "name": "stdout",
     "output_type": "stream",
     "text": [
      "  Source  ddof1  ddof2         F     p-unc      np2\n",
      "0  group      3     16  4.524595  0.017633  0.45898\n"
     ]
    }
   ],
   "source": [
    "aovv = pg.anova(dv='EB_content', between = 'group', data = mydata)\n",
    "print(aovv)\n"
   ]
  },
  {
   "cell_type": "code",
   "execution_count": 15,
   "id": "3ee8dfdb",
   "metadata": {},
   "outputs": [
    {
     "name": "stdout",
     "output_type": "stream",
     "text": [
      "       A        B   mean(A)   mean(B)      diff        se         T   p-tukey  \\\n",
      "0   Sham    VP150  0.721747  1.559354 -0.837607  0.972656 -0.861154  0.806421   \n",
      "1   Sham    VP300  0.721747  1.346629 -0.624881  0.972656 -0.642448  0.900000   \n",
      "2   Sham  Vehicle  0.721747  4.047483 -3.325736  0.972656 -3.419231  0.016654   \n",
      "3  VP150    VP300  1.559354  1.346629  0.212725  0.972656  0.218706  0.900000   \n",
      "4  VP150  Vehicle  1.559354  4.047483 -2.488129  0.972656 -2.558077  0.088185   \n",
      "5  VP300  Vehicle  1.346629  4.047483 -2.700855  0.972656 -2.776782  0.058754   \n",
      "\n",
      "     hedges  \n",
      "0 -0.491934  \n",
      "1 -0.366999  \n",
      "2 -1.953236  \n",
      "3  0.124936  \n",
      "4 -1.461302  \n",
      "5 -1.586237  \n"
     ]
    }
   ],
   "source": [
    "posthoc =  pg.pairwise_tukey(dv='EB_content', between = 'group', data = mydata)\n",
    "print(posthoc)"
   ]
  },
  {
   "cell_type": "code",
   "execution_count": 12,
   "id": "a2fcefcb",
   "metadata": {},
   "outputs": [],
   "source": [
    "#PLOT GENERATION"
   ]
  },
  {
   "cell_type": "code",
   "execution_count": null,
   "id": "56978642",
   "metadata": {},
   "outputs": [],
   "source": [
    "ax = sns.barplot(x=mydata.group, y=mydata.EB_content, linewidth = 2.5, facecolor = (1,1,1,0), errcolor=\".2\", edgecolor = '.2', capsize = .2)\n",
    "ax = sns.swarmplot(x = mydata.group, y = mydata.EB_content,  size = 10, color = \"black\", alpha = 0.5)\n",
    "ax.set(ylim=(0,10), ylabel  = \"EB content (μg/g)\", xlabel = None)"
   ]
  },
  {
   "cell_type": "code",
   "execution_count": 68,
   "id": "e11dec86",
   "metadata": {},
   "outputs": [
    {
     "data": {
      "image/png": "[encoded data removed]",
      "text/plain": [
       "<Figure size 432x288 with 1 Axes>"
      ]
     },
     "metadata": {
      "needs_background": "light"
     },
     "output_type": "display_data"
    }
   ],
   "source": [
    "ax = sns.barplot(x=mydata.group, y=mydata.EB_content, linewidth = 2.5, facecolor = (1,1,1,0), errcolor=\".2\", edgecolor = '.2', capsize = .2)\n",
    "ax = sns.swarmplot(x = mydata.group, y = mydata.EB_content,  size = 10, color = \"black\", alpha = 0.5)\n",
    "#ax.set(ylim=(0,10), ylabel  = \"EB content (μg/g)\", xlabel = None)\n",
    "x1, x2 = 1,3\n",
    "y, h, col, = mydata['EB_content'].max() + 2,0,'k'\n",
    "plt.plot([x1,x1,x2,x2], [y, y+h, y+h, y], lw = 1.5, c=col)\n",
    "plt.text((x1+x2)*.5, y+h, \"p=0.0587\", ha = 'center', va = 'bottom' ,color = col)\n",
    "\n",
    "x3, x4 = 1,2\n",
    "y, h, col, = mydata['EB_content'].mean() + 6,0,'k'\n",
    "plt.plot([x3,x3,x4,x4], [y, y+h, y+h, y], lw = 1.5, c=col)\n",
    "plt.text((x1+x2)*.4, y+h, \"p=0,0882\", ha = 'center', va = 'bottom' ,color = col)\n",
    "x5, x6 = 0,1\n",
    "y, h, col, = mydata['EB_content'].min() + 7,0,'k'\n",
    "plt.plot([x5,x5,x6,x6], [y, y+h, y+h, y], lw = 1.5, c=col)\n",
    "plt.text((x1+x2)*.2, y+h, \"p=0.0183\", ha = 'right', va = 'bottom' ,color = col)\n",
    "plt.show()\n",
    "fig = ax.get_figure()\n",
    "fig.savefig(\"plot.pdf\")"
   ]
  },
  {
   "cell_type": "code",
   "execution_count": 60,
   "id": "5b895f14",
   "metadata": {},
   "outputs": [
    {
     "data": {
      "text/plain": [
       "<Figure size 432x288 with 0 Axes>"
      ]
     },
     "metadata": {},
     "output_type": "display_data"
    }
   ],
   "source": [
    "plt.savefig('wykresssss.pdf')"
   ]
  },
  {
   "cell_type": "code",
   "execution_count": null,
   "id": "41761b38",
   "metadata": {},
   "outputs": [],
   "source": []
  }
 ],
 "metadata": {
  "kernelspec": {
   "display_name": "Python 3",
   "language": "python",
   "name": "python3"
  },
  "language_info": {
   "codemirror_mode": {
    "name": "ipython",
    "version": 3
   },
   "file_extension": ".py",
   "mimetype": "text/x-python",
   "name": "python",
   "nbconvert_exporter": "python",
   "pygments_lexer": "ipython3",
   "version": "3.8.8"
  }
 },
 "nbformat": 4,
 "nbformat_minor": 5
}
